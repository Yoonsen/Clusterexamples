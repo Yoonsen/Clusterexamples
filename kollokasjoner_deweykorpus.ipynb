{
 "cells": [
  {
   "cell_type": "markdown",
   "metadata": {},
   "source": [
    "##### Boot cell below - skip if `module_update.py` is in same folder as notebook, and pay attention if you have file with same name."
   ]
  },
  {
   "cell_type": "code",
   "execution_count": null,
   "metadata": {},
   "outputs": [],
   "source": [
    "# The code-snippet in this cell is for booting up the notebook resources.\n",
    "# A file named 'module_update.py' is downloaded from Github, ready to be run in the next cell. It will download the rest.\n",
    "\n",
    "import urllib.request\n",
    "urllib.request.urlretrieve(url = \"https://raw.githubusercontent.com/Yoonsen/Modules/master/module_update.py\", filename=\"module_update.py\");"
   ]
  },
  {
   "cell_type": "markdown",
   "metadata": {},
   "source": [
    "### --------------------------------------------------------------------------------------------------------"
   ]
  },
  {
   "cell_type": "markdown",
   "metadata": {},
   "source": [
    "# Ny funksjonalitet med et eksempel\n",
    "\n",
    "*Lars G B Johnsen* oktober 2018"
   ]
  },
  {
   "cell_type": "markdown",
   "metadata": {},
   "source": [
    "I løpet av seminaret vi hadde på NTNU nå 24. og 25. oktober, luftet Anders Skare Malvik behovet for å kunne gjøre kollokasjoner og clustring basert på flere ord med utgangspunkt i kommandoen `urn_coll`. Her er et par eksempler på korpus og ord-analyse, som viser de nye kommandoene. \n",
    "\n",
    "For kollokasjonsanalyser, se også nettsiden for [Lancsbox](http://corpora.lancs.ac.uk/lancsbox/), og artikkelen [Collocations in Context](http://docserver.ingentaconnect.com/deliver/connect/jbp/13846655/v20n2/s1.pdf?expires=1540574308&id=0000&titleid=3714&checksum=91C9D11C6284D0B2A214598FFE26E86E), eller forlagets [adgangsside](http://www.ingentaconnect.com/content/jbp/ijcl/2015/00000020/00000002/art00001#)\n",
    "Og [her er en artikkel](http://ceur-ws.org/Vol-2021/paper6.pdf) jeg skrev om grafanalyse for ord og semantisk analyse, som bruker noen av de redskapene beskrevet nedenfor.  \n",
    "\n",
    "#### Start med å importere modulene"
   ]
  },
  {
   "cell_type": "code",
   "execution_count": 2,
   "metadata": {},
   "outputs": [
    {
     "name": "stdout",
     "output_type": "stream",
     "text": [
      "Updated file nbtext.py\n",
      "Updated file nbpictures.py\n"
     ]
    }
   ],
   "source": [
    "import module_update\n",
    "from module_update import update"
   ]
  },
  {
   "cell_type": "code",
   "execution_count": 3,
   "metadata": {},
   "outputs": [
    {
     "name": "stdout",
     "output_type": "stream",
     "text": [
      "Updated file graph_networkx_louvain.py\n"
     ]
    }
   ],
   "source": [
    "update('graph_networkx_louvain')\n",
    "import nbtext as nb\n",
    "import graph_networkx_louvain as gnl\n",
    "from graph_networkx_louvain import cutdown, make_collocation_graph"
   ]
  },
  {
   "cell_type": "markdown",
   "metadata": {},
   "source": [
    "## Bygg korpus og analysér\n",
    "\n",
    "Korpuset defineres som 30 bøker fra dewey 799 - husk å ta med % spesifikasjonen, viktig å få med hele hierarkiet under 799. Tilsvarende for en annen Dewey, eller om dere har et fast korpus å jobbe med."
   ]
  },
  {
   "cell_type": "code",
   "execution_count": 108,
   "metadata": {},
   "outputs": [
    {
     "data": {
      "text/plain": [
       "221"
      ]
     },
     "execution_count": 108,
     "metadata": {},
     "output_type": "execute_result"
    }
   ],
   "source": [
    "korpus = nb.get_urn({'ddk': '799.2%', 'year':1980, 'next':50, 'limit':300})\n",
    "len(korpus)"
   ]
  },
  {
   "cell_type": "markdown",
   "metadata": {},
   "source": [
    "Aggregrer korpuset  med kommandoen `get_aggregated_corpus()`, der argumentet her output fra `get_urn` ovenfor, men det kan være en hvilken som helst liste med URN-er. Det aggregerte korpuset vil utgjøre konteksten for ord-kollokasjoner hentet fra korpuset."
   ]
  },
  {
   "cell_type": "code",
   "execution_count": 109,
   "metadata": {},
   "outputs": [],
   "source": [
    "aggs = nb.get_aggregated_corpus(korpus)"
   ]
  },
  {
   "cell_type": "markdown",
   "metadata": {},
   "source": [
    "Det aggregerte korpuset ser sånn ut. Notasjonen `x[0:10]` betyr at vi ser på data i posisjon 0 til 10, bytt ut med 20:50 for å se de fra 20 til 50, osv. "
   ]
  },
  {
   "cell_type": "code",
   "execution_count": 110,
   "metadata": {},
   "outputs": [
    {
     "data": {
      "text/html": [
       "<div>\n",
       "<style scoped>\n",
       "    .dataframe tbody tr th:only-of-type {\n",
       "        vertical-align: middle;\n",
       "    }\n",
       "\n",
       "    .dataframe tbody tr th {\n",
       "        vertical-align: top;\n",
       "    }\n",
       "\n",
       "    .dataframe thead th {\n",
       "        text-align: right;\n",
       "    }\n",
       "</style>\n",
       "<table border=\"1\" class=\"dataframe\">\n",
       "  <thead>\n",
       "    <tr style=\"text-align: right;\">\n",
       "      <th></th>\n",
       "      <th>0</th>\n",
       "    </tr>\n",
       "  </thead>\n",
       "  <tbody>\n",
       "    <tr>\n",
       "      <th>.</th>\n",
       "      <td>668411</td>\n",
       "    </tr>\n",
       "    <tr>\n",
       "      <th>,</th>\n",
       "      <td>488668</td>\n",
       "    </tr>\n",
       "    <tr>\n",
       "      <th>og</th>\n",
       "      <td>385498</td>\n",
       "    </tr>\n",
       "    <tr>\n",
       "      <th>i</th>\n",
       "      <td>294194</td>\n",
       "    </tr>\n",
       "    <tr>\n",
       "      <th>er</th>\n",
       "      <td>239485</td>\n",
       "    </tr>\n",
       "    <tr>\n",
       "      <th>på</th>\n",
       "      <td>192850</td>\n",
       "    </tr>\n",
       "    <tr>\n",
       "      <th>det</th>\n",
       "      <td>182138</td>\n",
       "    </tr>\n",
       "    <tr>\n",
       "      <th>som</th>\n",
       "      <td>165863</td>\n",
       "    </tr>\n",
       "    <tr>\n",
       "      <th>en</th>\n",
       "      <td>164518</td>\n",
       "    </tr>\n",
       "    <tr>\n",
       "      <th>av</th>\n",
       "      <td>159802</td>\n",
       "    </tr>\n",
       "  </tbody>\n",
       "</table>\n",
       "</div>"
      ],
      "text/plain": [
       "          0\n",
       ".    668411\n",
       ",    488668\n",
       "og   385498\n",
       "i    294194\n",
       "er   239485\n",
       "på   192850\n",
       "det  182138\n",
       "som  165863\n",
       "en   164518\n",
       "av   159802"
      ]
     },
     "execution_count": 110,
     "metadata": {},
     "output_type": "execute_result"
    }
   ],
   "source": [
    "aggs[0:10]"
   ]
  },
  {
   "cell_type": "markdown",
   "metadata": {},
   "source": [
    "Ikke så mye å si her, annet et at de vanlige ordene (eller tokener) er på topp.\n",
    "\n",
    "Så lager vi en kollokasjon for en samling våpen med utgangspunkt i korpuset."
   ]
  },
  {
   "cell_type": "code",
   "execution_count": 145,
   "metadata": {},
   "outputs": [],
   "source": [
    "kollokasjonsord = \"gevær revolver pistol hagle rifle\""
   ]
  },
  {
   "cell_type": "code",
   "execution_count": 146,
   "metadata": {},
   "outputs": [],
   "source": [
    "kollokasjoner = nb.urn_coll_words(kollokasjonsord, korpus, limit = 1000) # limit begrenser antall treff pr. bok"
   ]
  },
  {
   "cell_type": "markdown",
   "metadata": {},
   "source": [
    "Selve kollokasjonen kan vi også ta en titt på:"
   ]
  },
  {
   "cell_type": "code",
   "execution_count": 147,
   "metadata": {},
   "outputs": [
    {
     "data": {
      "text/html": [
       "<div>\n",
       "<style scoped>\n",
       "    .dataframe tbody tr th:only-of-type {\n",
       "        vertical-align: middle;\n",
       "    }\n",
       "\n",
       "    .dataframe tbody tr th {\n",
       "        vertical-align: top;\n",
       "    }\n",
       "\n",
       "    .dataframe thead th {\n",
       "        text-align: right;\n",
       "    }\n",
       "</style>\n",
       "<table border=\"1\" class=\"dataframe\">\n",
       "  <thead>\n",
       "    <tr style=\"text-align: right;\">\n",
       "      <th></th>\n",
       "      <th>0</th>\n",
       "    </tr>\n",
       "  </thead>\n",
       "  <tbody>\n",
       "    <tr>\n",
       "      <th>.</th>\n",
       "      <td>3669</td>\n",
       "    </tr>\n",
       "    <tr>\n",
       "      <th>med</th>\n",
       "      <td>3589</td>\n",
       "    </tr>\n",
       "    <tr>\n",
       "      <th>,</th>\n",
       "      <td>2735</td>\n",
       "    </tr>\n",
       "    <tr>\n",
       "      <th>og</th>\n",
       "      <td>2221</td>\n",
       "    </tr>\n",
       "    <tr>\n",
       "      <th>er</th>\n",
       "      <td>1705</td>\n",
       "    </tr>\n",
       "    <tr>\n",
       "      <th>på</th>\n",
       "      <td>1324</td>\n",
       "    </tr>\n",
       "    <tr>\n",
       "      <th>det</th>\n",
       "      <td>1080</td>\n",
       "    </tr>\n",
       "    <tr>\n",
       "      <th>en</th>\n",
       "      <td>1076</td>\n",
       "    </tr>\n",
       "    <tr>\n",
       "      <th>i</th>\n",
       "      <td>996</td>\n",
       "    </tr>\n",
       "    <tr>\n",
       "      <th>av</th>\n",
       "      <td>877</td>\n",
       "    </tr>\n",
       "  </tbody>\n",
       "</table>\n",
       "</div>"
      ],
      "text/plain": [
       "        0\n",
       ".    3669\n",
       "med  3589\n",
       ",    2735\n",
       "og   2221\n",
       "er   1705\n",
       "på   1324\n",
       "det  1080\n",
       "en   1076\n",
       "i     996\n",
       "av    877"
      ]
     },
     "execution_count": 147,
     "metadata": {},
     "output_type": "execute_result"
    }
   ],
   "source": [
    "kollokasjoner[0:10]"
   ]
  },
  {
   "cell_type": "markdown",
   "metadata": {},
   "source": [
    "Den skiller seg allerede en del fra det aggregerte. Ikke minst i antall. En del overlapp er det."
   ]
  },
  {
   "cell_type": "markdown",
   "metadata": {},
   "source": [
    "### Sammenlign kollokasjonen med korpuset.\n",
    "\n",
    "For å finne ut hvilke ord som er særlig knyttet til ordene i kollokasjon sammenlignes kollokasjonen over, den kalt `våpen`, med ordlisten i `aggs`. Både kollokasjonen og ordlistene er såkalte ordbagger, eller bag of words, definert som en liste av ord knyttet til en tall-verdi, frekvens eller annet. \n",
    "\n",
    "Kommandoen for å sammenligne er `compare_word_bags` fra `nbtext`. Den tar noen parametre (sjekk ut med shift-tab), men her skal vi se på `another_freq`. Eksperimenter med verdien til `another_freq` som angir minimumsfrekvens på ordet i referansen, eller konteksten om du vil. Desto høyere verdi som settes for `another_freq` desto mer generell blir kollokasjonen, den vil gjelde for ord med større utbredelse i selve korpuset. Det kan også settes krav til verdien av frekvensene i kollokasjonen, men i og med at kollokasjonen utgjør en delmengde (eller delbag) av referansen/konteksten er det greiere å bare kutte ned på den større. \n",
    "\n",
    "I uttrykkene brukes notasjonen `x[0:10]` for å se på et utsnitt av data. Om første tall mangler, er det det samme som 0, så `x[:10]` er det samme som `x[0:10]`."
   ]
  },
  {
   "cell_type": "code",
   "execution_count": 148,
   "metadata": {},
   "outputs": [
    {
     "data": {
      "text/html": [
       "<div>\n",
       "<style scoped>\n",
       "    .dataframe tbody tr th:only-of-type {\n",
       "        vertical-align: middle;\n",
       "    }\n",
       "\n",
       "    .dataframe tbody tr th {\n",
       "        vertical-align: top;\n",
       "    }\n",
       "\n",
       "    .dataframe thead th {\n",
       "        text-align: right;\n",
       "    }\n",
       "</style>\n",
       "<table border=\"1\" class=\"dataframe\">\n",
       "  <thead>\n",
       "    <tr style=\"text-align: right;\">\n",
       "      <th></th>\n",
       "      <th>diff</th>\n",
       "    </tr>\n",
       "  </thead>\n",
       "  <tbody>\n",
       "    <tr>\n",
       "      <th>helautomatisk</th>\n",
       "      <td>1.061538</td>\n",
       "    </tr>\n",
       "    <tr>\n",
       "      <th>Dobbeltløpet</th>\n",
       "      <td>0.903226</td>\n",
       "    </tr>\n",
       "    <tr>\n",
       "      <th>Halvautomatisk</th>\n",
       "      <td>0.849315</td>\n",
       "    </tr>\n",
       "    <tr>\n",
       "      <th>halvautomatisk</th>\n",
       "      <td>0.843511</td>\n",
       "    </tr>\n",
       "    <tr>\n",
       "      <th>finkalibret</th>\n",
       "      <td>0.803419</td>\n",
       "    </tr>\n",
       "  </tbody>\n",
       "</table>\n",
       "</div>"
      ],
      "text/plain": [
       "                    diff\n",
       "helautomatisk   1.061538\n",
       "Dobbeltløpet    0.903226\n",
       "Halvautomatisk  0.849315\n",
       "halvautomatisk  0.843511\n",
       "finkalibret     0.803419"
      ]
     },
     "execution_count": 148,
     "metadata": {},
     "output_type": "execute_result"
    }
   ],
   "source": [
    "nb.compare_word_bags(kollokasjoner, aggs, another_freq= 30)[:5]"
   ]
  },
  {
   "cell_type": "code",
   "execution_count": 149,
   "metadata": {},
   "outputs": [
    {
     "data": {
      "text/html": [
       "<div>\n",
       "<style scoped>\n",
       "    .dataframe tbody tr th:only-of-type {\n",
       "        vertical-align: middle;\n",
       "    }\n",
       "\n",
       "    .dataframe tbody tr th {\n",
       "        vertical-align: top;\n",
       "    }\n",
       "\n",
       "    .dataframe thead th {\n",
       "        text-align: right;\n",
       "    }\n",
       "</style>\n",
       "<table border=\"1\" class=\"dataframe\">\n",
       "  <thead>\n",
       "    <tr style=\"text-align: right;\">\n",
       "      <th></th>\n",
       "      <th>diff</th>\n",
       "    </tr>\n",
       "  </thead>\n",
       "  <tbody>\n",
       "    <tr>\n",
       "      <th>Finkalibret</th>\n",
       "      <td>1.333333</td>\n",
       "    </tr>\n",
       "    <tr>\n",
       "      <th>927.</th>\n",
       "      <td>1.083333</td>\n",
       "    </tr>\n",
       "    <tr>\n",
       "      <th>helautomatisk</th>\n",
       "      <td>1.061538</td>\n",
       "    </tr>\n",
       "    <tr>\n",
       "      <th>Jaktskudd</th>\n",
       "      <td>1.000000</td>\n",
       "    </tr>\n",
       "    <tr>\n",
       "      <th>pumpehagle/halvautomatisk</th>\n",
       "      <td>1.000000</td>\n",
       "    </tr>\n",
       "  </tbody>\n",
       "</table>\n",
       "</div>"
      ],
      "text/plain": [
       "                               diff\n",
       "Finkalibret                1.333333\n",
       "927.                       1.083333\n",
       "helautomatisk              1.061538\n",
       "Jaktskudd                  1.000000\n",
       "pumpehagle/halvautomatisk  1.000000"
      ]
     },
     "execution_count": 149,
     "metadata": {},
     "output_type": "execute_result"
    }
   ],
   "source": [
    "nb.compare_word_bags(kollokasjoner, aggs, another_freq= 10)[:5]"
   ]
  },
  {
   "cell_type": "markdown",
   "metadata": {},
   "source": [
    "# Lag en graf over kollokasjonen\n",
    "\n",
    "Graf fra kollokasjonen der korpuset selv fungerer som referansekorpus. Kommandoen for å lage grafer er hentet fra `graph_networkx_louvain` modulen for å analysere grafer og sammenhenger. Grafen tar utgangspunkt i kollokasjonen og gir den en struktur, samtidig som grafen er en utvidelse.\n",
    "\n",
    "I kommandoen betyr verdien for `cutoff` det samme som `another_freq` ovenfor. For hver runde med kollokasjon fjernes ord med frekvens lavere enn 10 fra konteksten. Verdien at `top` angir hvor stor del av hver kollokasjon som skal tas med i grafen til slutt.\n"
   ]
  },
  {
   "cell_type": "code",
   "execution_count": 150,
   "metadata": {},
   "outputs": [],
   "source": [
    "G = make_collocation_graph(kollokasjonsord, urns=korpus,  top=40, cutoff = 10)"
   ]
  },
  {
   "cell_type": "markdown",
   "metadata": {},
   "source": [
    "Grafen kuttes ned slik at løvnodene ikke blir med. Ta bort `cutdown()` fra uttrykket under for å se hele grafen med løvnoder."
   ]
  },
  {
   "cell_type": "code",
   "execution_count": 163,
   "metadata": {},
   "outputs": [
    {
     "data": {
      "image/png": "[encoded data removed]",
      "text/plain": [
       "<Figure size 1080x720 with 1 Axes>"
      ]
     },
     "metadata": {},
     "output_type": "display_data"
    }
   ],
   "source": [
    "gnl.show_graph(cutdown(G), spread=0.12, deltax=0, deltay=0)"
   ]
  },
  {
   "cell_type": "markdown",
   "metadata": {},
   "source": [
    "Grafen gir data for klikk-clustre og hierarkisk louvain-clustring. "
   ]
  },
  {
   "cell_type": "code",
   "execution_count": 152,
   "metadata": {},
   "outputs": [
    {
     "name": "stdout",
     "output_type": "stream",
     "text": [
      "(3, 1) grovkalibret, revolver, kortløpet\n",
      "\n",
      "(3, 2) dobbeltløpet, hagle, enkeltløpet\n",
      "\n",
      "(3, 3) Fluktskudd, Jaktskudd, mcd\n",
      "\n",
      "(3, 4) haglgevær, haglegevær, Enkeltløpet, db, Dobbeltløpet\n",
      "\n",
      "(3, 5) revolver, Aldersgrensen, salongrifle, pistol, halvautomatiske, handvåpen\n",
      "\n",
      "(3, 6) rifle, helautomatisk, Halvautomatisk\n",
      "\n"
     ]
    }
   ],
   "source": [
    "# første tall, x i (x, y) sier noe om klikkstørrelsen, så (3, y) betyr cluster fra 3-klikker. \n",
    "# Det andre tallet, y, er en vilkårlig nummerering\n",
    "\n",
    "gnl.show_cliques(cutdown(G))"
   ]
  },
  {
   "cell_type": "code",
   "execution_count": 153,
   "metadata": {},
   "outputs": [
    {
     "name": "stdout",
     "output_type": "stream",
     "text": [
      "1 helmantlet, kombivåpenet, finkalibret, fmkalibret\n",
      "\n",
      "2 Skyting\n",
      "\n",
      "3 Long, hulspiss, long\n",
      "\n",
      "4 halvautomatisk, Mekanisme, Halvautomatisk, haglevåpen, hammerless, to, småkalibret, rifle, helautomatisk, Jaktriflene, plombert, lademekanisme\n",
      "\n",
      "5 revolver, Finkalibret, handvåpen, grovkalibret, kortløpet, Aldersgrensen, LR, salongrifle, pistol, halvautomatiske\n",
      "\n",
      "6 tungvint, riflekulen, uregistrert, HAGLGEVÆRTYPER, treffsikkert, hagle, Ulemper, haglløp, Kombinasjonsvåpen, Synlige, dobbeltløpet\n",
      "\n",
      "7 topplever, db, Dobbeltløpet, haglgevær, haglegevær, Enkeltløpet, magasinhagle, enkeltløpet\n",
      "\n",
      "8 Fluktskudd, Jaktskudd, Jaktvåpen, skramle, mcd, Skudd, gevær, sårdannelse, Nøkkeldata\n",
      "\n"
     ]
    }
   ],
   "source": [
    "gnl.show_community(cutdown(G))"
   ]
  },
  {
   "cell_type": "markdown",
   "metadata": {},
   "source": [
    "En hurtig sammenligning av resultatet av kollokasjonen alene, med de sentrale nodene i grafen. Husk at alle data kommer fra korpuset, så om det endres vil alt endres! "
   ]
  },
  {
   "cell_type": "code",
   "execution_count": 154,
   "metadata": {},
   "outputs": [
    {
     "data": {
      "text/html": [
       "<div>\n",
       "<style scoped>\n",
       "    .dataframe tbody tr th:only-of-type {\n",
       "        vertical-align: middle;\n",
       "    }\n",
       "\n",
       "    .dataframe tbody tr th {\n",
       "        vertical-align: top;\n",
       "    }\n",
       "\n",
       "    .dataframe thead th {\n",
       "        text-align: right;\n",
       "    }\n",
       "</style>\n",
       "<table border=\"1\" class=\"dataframe\">\n",
       "  <thead>\n",
       "    <tr style=\"text-align: right;\">\n",
       "      <th></th>\n",
       "      <th>diff</th>\n",
       "    </tr>\n",
       "  </thead>\n",
       "  <tbody>\n",
       "    <tr>\n",
       "      <th>helautomatisk</th>\n",
       "      <td>1.061538</td>\n",
       "    </tr>\n",
       "    <tr>\n",
       "      <th>Dobbeltløpet</th>\n",
       "      <td>0.903226</td>\n",
       "    </tr>\n",
       "    <tr>\n",
       "      <th>Halvautomatisk</th>\n",
       "      <td>0.849315</td>\n",
       "    </tr>\n",
       "    <tr>\n",
       "      <th>halvautomatisk</th>\n",
       "      <td>0.843511</td>\n",
       "    </tr>\n",
       "    <tr>\n",
       "      <th>finkalibret</th>\n",
       "      <td>0.803419</td>\n",
       "    </tr>\n",
       "    <tr>\n",
       "      <th>Enkeltløpet</th>\n",
       "      <td>0.763636</td>\n",
       "    </tr>\n",
       "    <tr>\n",
       "      <th>revolver</th>\n",
       "      <td>0.735849</td>\n",
       "    </tr>\n",
       "    <tr>\n",
       "      <th>enkeltløpet</th>\n",
       "      <td>0.720930</td>\n",
       "    </tr>\n",
       "    <tr>\n",
       "      <th>long</th>\n",
       "      <td>0.693878</td>\n",
       "    </tr>\n",
       "    <tr>\n",
       "      <th>pistol</th>\n",
       "      <td>0.653333</td>\n",
       "    </tr>\n",
       "  </tbody>\n",
       "</table>\n",
       "</div>"
      ],
      "text/plain": [
       "                    diff\n",
       "helautomatisk   1.061538\n",
       "Dobbeltløpet    0.903226\n",
       "Halvautomatisk  0.849315\n",
       "halvautomatisk  0.843511\n",
       "finkalibret     0.803419\n",
       "Enkeltløpet     0.763636\n",
       "revolver        0.735849\n",
       "enkeltløpet     0.720930\n",
       "long            0.693878\n",
       "pistol          0.653333"
      ]
     },
     "execution_count": 154,
     "metadata": {},
     "output_type": "execute_result"
    }
   ],
   "source": [
    "nb.compare_word_bags(kollokasjoner, aggs, another_freq=30)[:10]"
   ]
  },
  {
   "cell_type": "code",
   "execution_count": 155,
   "metadata": {},
   "outputs": [
    {
     "data": {
      "text/html": [
       "<div>\n",
       "<style scoped>\n",
       "    .dataframe tbody tr th:only-of-type {\n",
       "        vertical-align: middle;\n",
       "    }\n",
       "\n",
       "    .dataframe tbody tr th {\n",
       "        vertical-align: top;\n",
       "    }\n",
       "\n",
       "    .dataframe thead th {\n",
       "        text-align: right;\n",
       "    }\n",
       "</style>\n",
       "<table border=\"1\" class=\"dataframe\">\n",
       "  <thead>\n",
       "    <tr style=\"text-align: right;\">\n",
       "      <th></th>\n",
       "      <th>graph</th>\n",
       "    </tr>\n",
       "  </thead>\n",
       "  <tbody>\n",
       "    <tr>\n",
       "      <th>rifle</th>\n",
       "      <td>0.157895</td>\n",
       "    </tr>\n",
       "    <tr>\n",
       "      <th>Enkeltløpet</th>\n",
       "      <td>0.157895</td>\n",
       "    </tr>\n",
       "    <tr>\n",
       "      <th>Dobbeltløpet</th>\n",
       "      <td>0.140351</td>\n",
       "    </tr>\n",
       "    <tr>\n",
       "      <th>enkeltløpet</th>\n",
       "      <td>0.122807</td>\n",
       "    </tr>\n",
       "    <tr>\n",
       "      <th>hagle</th>\n",
       "      <td>0.122807</td>\n",
       "    </tr>\n",
       "    <tr>\n",
       "      <th>pistol</th>\n",
       "      <td>0.122807</td>\n",
       "    </tr>\n",
       "    <tr>\n",
       "      <th>revolver</th>\n",
       "      <td>0.122807</td>\n",
       "    </tr>\n",
       "    <tr>\n",
       "      <th>halvautomatisk</th>\n",
       "      <td>0.087719</td>\n",
       "    </tr>\n",
       "    <tr>\n",
       "      <th>Synlige</th>\n",
       "      <td>0.087719</td>\n",
       "    </tr>\n",
       "    <tr>\n",
       "      <th>fmkalibret</th>\n",
       "      <td>0.070175</td>\n",
       "    </tr>\n",
       "  </tbody>\n",
       "</table>\n",
       "</div>"
      ],
      "text/plain": [
       "                   graph\n",
       "rifle           0.157895\n",
       "Enkeltløpet     0.157895\n",
       "Dobbeltløpet    0.140351\n",
       "enkeltløpet     0.122807\n",
       "hagle           0.122807\n",
       "pistol          0.122807\n",
       "revolver        0.122807\n",
       "halvautomatisk  0.087719\n",
       "Synlige         0.087719\n",
       "fmkalibret      0.070175"
      ]
     },
     "execution_count": 155,
     "metadata": {},
     "output_type": "execute_result"
    }
   ],
   "source": [
    "nb.frame(dict(nb.central_characters(cutdown(G), n=50)),'graph')[:10]"
   ]
  },
  {
   "cell_type": "markdown",
   "metadata": {},
   "source": [
    "Sammenligningen kan gjøres enklere ved å slå sammen de to kolonnene i en ramme. Selve kombinasjonen er en munnfull (for alle, inklusiv Python-eksperter!), men bær over for akkurat den her notebooken. \n",
    "\n",
    "Her kan det være interessant å eksperimentere med kollokasjonen, og `another_freq` (det første grønne tallet i linja under, det) - hvilken verdi gjør at `diff` får mer til felles med de sentrale elementene i grafen fra `graph`-kolonnen?  "
   ]
  },
  {
   "cell_type": "code",
   "execution_count": 156,
   "metadata": {},
   "outputs": [],
   "source": [
    "combo = nb.compare_word_bags(kollokasjoner, aggs, another_freq= 10).join(nb.frame(dict(nb.central_characters(cutdown(G), n=50)),'graph'), how='outer')"
   ]
  },
  {
   "cell_type": "code",
   "execution_count": 157,
   "metadata": {},
   "outputs": [
    {
     "data": {
      "text/html": [
       "<style  type=\"text/css\" >\n",
       "    #T_576a3554_d943_11e8_bd6d_d46d6d080fecrow0_col0 {\n",
       "            background-color:  #008000;\n",
       "        }    #T_576a3554_d943_11e8_bd6d_d46d6d080fecrow0_col1 {\n",
       "            background-color:  #b3e3b3;\n",
       "        }    #T_576a3554_d943_11e8_bd6d_d46d6d080fecrow1_col0 {\n",
       "            background-color:  #55af55;\n",
       "        }    #T_576a3554_d943_11e8_bd6d_d46d6d080fecrow1_col1 {\n",
       "            background-color:  #e5ffe5;\n",
       "        }    #T_576a3554_d943_11e8_bd6d_d46d6d080fecrow2_col0 {\n",
       "            background-color:  #5cb35c;\n",
       "        }    #T_576a3554_d943_11e8_bd6d_d46d6d080fecrow2_col1 {\n",
       "            background-color:  #80c780;\n",
       "        }    #T_576a3554_d943_11e8_bd6d_d46d6d080fecrow3_col0 {\n",
       "            background-color:  #70be70;\n",
       "        }    #T_576a3554_d943_11e8_bd6d_d46d6d080fecrow3_col1 {\n",
       "            background-color:  #99d599;\n",
       "        }    #T_576a3554_d943_11e8_bd6d_d46d6d080fecrow4_col0 {\n",
       "            background-color:  #70be70;\n",
       "        }    #T_576a3554_d943_11e8_bd6d_d46d6d080fecrow4_col1 {\n",
       "            background-color:  #e5ffe5;\n",
       "        }    #T_576a3554_d943_11e8_bd6d_d46d6d080fecrow5_col0 {\n",
       "            background-color:  #70be70;\n",
       "        }    #T_576a3554_d943_11e8_bd6d_d46d6d080fecrow5_col1 {\n",
       "            background-color:  #b3e3b3;\n",
       "        }    #T_576a3554_d943_11e8_bd6d_d46d6d080fecrow6_col0 {\n",
       "            background-color:  #8cce8c;\n",
       "        }    #T_576a3554_d943_11e8_bd6d_d46d6d080fecrow6_col1 {\n",
       "            background-color:  #e5ffe5;\n",
       "        }    #T_576a3554_d943_11e8_bd6d_d46d6d080fecrow7_col0 {\n",
       "            background-color:  #91d091;\n",
       "        }    #T_576a3554_d943_11e8_bd6d_d46d6d080fecrow7_col1 {\n",
       "            background-color:  #198e19;\n",
       "        }    #T_576a3554_d943_11e8_bd6d_d46d6d080fecrow8_col0 {\n",
       "            background-color:  #a4dba4;\n",
       "        }    #T_576a3554_d943_11e8_bd6d_d46d6d080fecrow8_col1 {\n",
       "            background-color:  #99d599;\n",
       "        }    #T_576a3554_d943_11e8_bd6d_d46d6d080fecrow9_col0 {\n",
       "            background-color:  #a6dca6;\n",
       "        }    #T_576a3554_d943_11e8_bd6d_d46d6d080fecrow9_col1 {\n",
       "            background-color:  #66b866;\n",
       "        }    #T_576a3554_d943_11e8_bd6d_d46d6d080fecrow10_col0 {\n",
       "            background-color:  #b3e3b3;\n",
       "        }    #T_576a3554_d943_11e8_bd6d_d46d6d080fecrow10_col1 {\n",
       "            background-color:  #99d599;\n",
       "        }    #T_576a3554_d943_11e8_bd6d_d46d6d080fecrow11_col0 {\n",
       "            background-color:  #c1ebc1;\n",
       "        }    #T_576a3554_d943_11e8_bd6d_d46d6d080fecrow11_col1 {\n",
       "            background-color:  #008000;\n",
       "        }    #T_576a3554_d943_11e8_bd6d_d46d6d080fecrow12_col0 {\n",
       "            background-color:  #caf0ca;\n",
       "        }    #T_576a3554_d943_11e8_bd6d_d46d6d080fecrow12_col1 {\n",
       "            background-color:  #329c32;\n",
       "        }    #T_576a3554_d943_11e8_bd6d_d46d6d080fecrow13_col0 {\n",
       "            background-color:  #caf0ca;\n",
       "        }    #T_576a3554_d943_11e8_bd6d_d46d6d080fecrow13_col1 {\n",
       "            background-color:  #80c780;\n",
       "        }    #T_576a3554_d943_11e8_bd6d_d46d6d080fecrow14_col0 {\n",
       "            background-color:  #cdf2cd;\n",
       "        }    #T_576a3554_d943_11e8_bd6d_d46d6d080fecrow14_col1 {\n",
       "            background-color:  #e5ffe5;\n",
       "        }    #T_576a3554_d943_11e8_bd6d_d46d6d080fecrow15_col0 {\n",
       "            background-color:  #cff3cf;\n",
       "        }    #T_576a3554_d943_11e8_bd6d_d46d6d080fecrow15_col1 {\n",
       "            background-color:  #329c32;\n",
       "        }    #T_576a3554_d943_11e8_bd6d_d46d6d080fecrow16_col0 {\n",
       "            background-color:  #d8f8d8;\n",
       "        }    #T_576a3554_d943_11e8_bd6d_d46d6d080fecrow16_col1 {\n",
       "            background-color:  #e5ffe5;\n",
       "        }    #T_576a3554_d943_11e8_bd6d_d46d6d080fecrow17_col0 {\n",
       "            background-color:  #d9f8d9;\n",
       "        }    #T_576a3554_d943_11e8_bd6d_d46d6d080fecrow17_col1 {\n",
       "            background-color:  #b3e3b3;\n",
       "        }    #T_576a3554_d943_11e8_bd6d_d46d6d080fecrow18_col0 {\n",
       "            background-color:  #e1fde1;\n",
       "        }    #T_576a3554_d943_11e8_bd6d_d46d6d080fecrow18_col1 {\n",
       "            background-color:  #e5ffe5;\n",
       "        }    #T_576a3554_d943_11e8_bd6d_d46d6d080fecrow19_col0 {\n",
       "            background-color:  #e5ffe5;\n",
       "        }    #T_576a3554_d943_11e8_bd6d_d46d6d080fecrow19_col1 {\n",
       "            background-color:  #329c32;\n",
       "        }</style>  \n",
       "<table id=\"T_576a3554_d943_11e8_bd6d_d46d6d080fec\" > \n",
       "<thead>    <tr> \n",
       "        <th class=\"blank level0\" ></th> \n",
       "        <th class=\"col_heading level0 col0\" >diff</th> \n",
       "        <th class=\"col_heading level0 col1\" >graph</th> \n",
       "    </tr></thead> \n",
       "<tbody>    <tr> \n",
       "        <th id=\"T_576a3554_d943_11e8_bd6d_d46d6d080feclevel0_row0\" class=\"row_heading level0 row0\" >Finkalibret</th> \n",
       "        <td id=\"T_576a3554_d943_11e8_bd6d_d46d6d080fecrow0_col0\" class=\"data row0 col0\" >1.33333</td> \n",
       "        <td id=\"T_576a3554_d943_11e8_bd6d_d46d6d080fecrow0_col1\" class=\"data row0 col1\" >0.0350877</td> \n",
       "    </tr>    <tr> \n",
       "        <th id=\"T_576a3554_d943_11e8_bd6d_d46d6d080feclevel0_row1\" class=\"row_heading level0 row1\" >927.</th> \n",
       "        <td id=\"T_576a3554_d943_11e8_bd6d_d46d6d080fecrow1_col0\" class=\"data row1 col0\" >1.08333</td> \n",
       "        <td id=\"T_576a3554_d943_11e8_bd6d_d46d6d080fecrow1_col1\" class=\"data row1 col1\" >0</td> \n",
       "    </tr>    <tr> \n",
       "        <th id=\"T_576a3554_d943_11e8_bd6d_d46d6d080feclevel0_row2\" class=\"row_heading level0 row2\" >helautomatisk</th> \n",
       "        <td id=\"T_576a3554_d943_11e8_bd6d_d46d6d080fecrow2_col0\" class=\"data row2 col0\" >1.06154</td> \n",
       "        <td id=\"T_576a3554_d943_11e8_bd6d_d46d6d080fecrow2_col1\" class=\"data row2 col1\" >0.0701754</td> \n",
       "    </tr>    <tr> \n",
       "        <th id=\"T_576a3554_d943_11e8_bd6d_d46d6d080feclevel0_row3\" class=\"row_heading level0 row3\" >Jaktskudd</th> \n",
       "        <td id=\"T_576a3554_d943_11e8_bd6d_d46d6d080fecrow3_col0\" class=\"data row3 col0\" >1</td> \n",
       "        <td id=\"T_576a3554_d943_11e8_bd6d_d46d6d080fecrow3_col1\" class=\"data row3 col1\" >0.0526316</td> \n",
       "    </tr>    <tr> \n",
       "        <th id=\"T_576a3554_d943_11e8_bd6d_d46d6d080feclevel0_row4\" class=\"row_heading level0 row4\" >pumpehagle/halvautomatisk</th> \n",
       "        <td id=\"T_576a3554_d943_11e8_bd6d_d46d6d080fecrow4_col0\" class=\"data row4 col0\" >1</td> \n",
       "        <td id=\"T_576a3554_d943_11e8_bd6d_d46d6d080fecrow4_col1\" class=\"data row4 col1\" >0</td> \n",
       "    </tr>    <tr> \n",
       "        <th id=\"T_576a3554_d943_11e8_bd6d_d46d6d080feclevel0_row5\" class=\"row_heading level0 row5\" >Jaktriflene</th> \n",
       "        <td id=\"T_576a3554_d943_11e8_bd6d_d46d6d080fecrow5_col0\" class=\"data row5 col0\" >1</td> \n",
       "        <td id=\"T_576a3554_d943_11e8_bd6d_d46d6d080fecrow5_col1\" class=\"data row5 col1\" >0.0350877</td> \n",
       "    </tr>    <tr> \n",
       "        <th id=\"T_576a3554_d943_11e8_bd6d_d46d6d080feclevel0_row6\" class=\"row_heading level0 row6\" >uregistrert</th> \n",
       "        <td id=\"T_576a3554_d943_11e8_bd6d_d46d6d080fecrow6_col0\" class=\"data row6 col0\" >0.916667</td> \n",
       "        <td id=\"T_576a3554_d943_11e8_bd6d_d46d6d080fecrow6_col1\" class=\"data row6 col1\" >0</td> \n",
       "    </tr>    <tr> \n",
       "        <th id=\"T_576a3554_d943_11e8_bd6d_d46d6d080feclevel0_row7\" class=\"row_heading level0 row7\" >Dobbeltløpet</th> \n",
       "        <td id=\"T_576a3554_d943_11e8_bd6d_d46d6d080fecrow7_col0\" class=\"data row7 col0\" >0.903226</td> \n",
       "        <td id=\"T_576a3554_d943_11e8_bd6d_d46d6d080fecrow7_col1\" class=\"data row7 col1\" >0.140351</td> \n",
       "    </tr>    <tr> \n",
       "        <th id=\"T_576a3554_d943_11e8_bd6d_d46d6d080feclevel0_row8\" class=\"row_heading level0 row8\" >Halvautomatisk</th> \n",
       "        <td id=\"T_576a3554_d943_11e8_bd6d_d46d6d080fecrow8_col0\" class=\"data row8 col0\" >0.849315</td> \n",
       "        <td id=\"T_576a3554_d943_11e8_bd6d_d46d6d080fecrow8_col1\" class=\"data row8 col1\" >0.0526316</td> \n",
       "    </tr>    <tr> \n",
       "        <th id=\"T_576a3554_d943_11e8_bd6d_d46d6d080feclevel0_row9\" class=\"row_heading level0 row9\" >halvautomatisk</th> \n",
       "        <td id=\"T_576a3554_d943_11e8_bd6d_d46d6d080fecrow9_col0\" class=\"data row9 col0\" >0.843511</td> \n",
       "        <td id=\"T_576a3554_d943_11e8_bd6d_d46d6d080fecrow9_col1\" class=\"data row9 col1\" >0.0877193</td> \n",
       "    </tr>    <tr> \n",
       "        <th id=\"T_576a3554_d943_11e8_bd6d_d46d6d080feclevel0_row10\" class=\"row_heading level0 row10\" >finkalibret</th> \n",
       "        <td id=\"T_576a3554_d943_11e8_bd6d_d46d6d080fecrow10_col0\" class=\"data row10 col0\" >0.803419</td> \n",
       "        <td id=\"T_576a3554_d943_11e8_bd6d_d46d6d080fecrow10_col1\" class=\"data row10 col1\" >0.0526316</td> \n",
       "    </tr>    <tr> \n",
       "        <th id=\"T_576a3554_d943_11e8_bd6d_d46d6d080feclevel0_row11\" class=\"row_heading level0 row11\" >Enkeltløpet</th> \n",
       "        <td id=\"T_576a3554_d943_11e8_bd6d_d46d6d080fecrow11_col0\" class=\"data row11 col0\" >0.763636</td> \n",
       "        <td id=\"T_576a3554_d943_11e8_bd6d_d46d6d080fecrow11_col1\" class=\"data row11 col1\" >0.157895</td> \n",
       "    </tr>    <tr> \n",
       "        <th id=\"T_576a3554_d943_11e8_bd6d_d46d6d080feclevel0_row12\" class=\"row_heading level0 row12\" >revolver</th> \n",
       "        <td id=\"T_576a3554_d943_11e8_bd6d_d46d6d080fecrow12_col0\" class=\"data row12 col0\" >0.735849</td> \n",
       "        <td id=\"T_576a3554_d943_11e8_bd6d_d46d6d080fecrow12_col1\" class=\"data row12 col1\" >0.122807</td> \n",
       "    </tr>    <tr> \n",
       "        <th id=\"T_576a3554_d943_11e8_bd6d_d46d6d080feclevel0_row13\" class=\"row_heading level0 row13\" >fmkalibret</th> \n",
       "        <td id=\"T_576a3554_d943_11e8_bd6d_d46d6d080fecrow13_col0\" class=\"data row13 col0\" >0.733333</td> \n",
       "        <td id=\"T_576a3554_d943_11e8_bd6d_d46d6d080fecrow13_col1\" class=\"data row13 col1\" >0.0701754</td> \n",
       "    </tr>    <tr> \n",
       "        <th id=\"T_576a3554_d943_11e8_bd6d_d46d6d080feclevel0_row14\" class=\"row_heading level0 row14\" >riflekulen</th> \n",
       "        <td id=\"T_576a3554_d943_11e8_bd6d_d46d6d080fecrow14_col0\" class=\"data row14 col0\" >0.727273</td> \n",
       "        <td id=\"T_576a3554_d943_11e8_bd6d_d46d6d080fecrow14_col1\" class=\"data row14 col1\" >0</td> \n",
       "    </tr>    <tr> \n",
       "        <th id=\"T_576a3554_d943_11e8_bd6d_d46d6d080feclevel0_row15\" class=\"row_heading level0 row15\" >enkeltløpet</th> \n",
       "        <td id=\"T_576a3554_d943_11e8_bd6d_d46d6d080fecrow15_col0\" class=\"data row15 col0\" >0.72093</td> \n",
       "        <td id=\"T_576a3554_d943_11e8_bd6d_d46d6d080fecrow15_col1\" class=\"data row15 col1\" >0.122807</td> \n",
       "    </tr>    <tr> \n",
       "        <th id=\"T_576a3554_d943_11e8_bd6d_d46d6d080feclevel0_row16\" class=\"row_heading level0 row16\" >long</th> \n",
       "        <td id=\"T_576a3554_d943_11e8_bd6d_d46d6d080fecrow16_col0\" class=\"data row16 col0\" >0.693878</td> \n",
       "        <td id=\"T_576a3554_d943_11e8_bd6d_d46d6d080fecrow16_col1\" class=\"data row16 col1\" >0</td> \n",
       "    </tr>    <tr> \n",
       "        <th id=\"T_576a3554_d943_11e8_bd6d_d46d6d080feclevel0_row17\" class=\"row_heading level0 row17\" >småkalibret</th> \n",
       "        <td id=\"T_576a3554_d943_11e8_bd6d_d46d6d080fecrow17_col0\" class=\"data row17 col0\" >0.692308</td> \n",
       "        <td id=\"T_576a3554_d943_11e8_bd6d_d46d6d080fecrow17_col1\" class=\"data row17 col1\" >0.0350877</td> \n",
       "    </tr>    <tr> \n",
       "        <th id=\"T_576a3554_d943_11e8_bd6d_d46d6d080feclevel0_row18\" class=\"row_heading level0 row18\" >Fare</th> \n",
       "        <td id=\"T_576a3554_d943_11e8_bd6d_d46d6d080fecrow18_col0\" class=\"data row18 col0\" >0.666667</td> \n",
       "        <td id=\"T_576a3554_d943_11e8_bd6d_d46d6d080fecrow18_col1\" class=\"data row18 col1\" >0</td> \n",
       "    </tr>    <tr> \n",
       "        <th id=\"T_576a3554_d943_11e8_bd6d_d46d6d080feclevel0_row19\" class=\"row_heading level0 row19\" >pistol</th> \n",
       "        <td id=\"T_576a3554_d943_11e8_bd6d_d46d6d080fecrow19_col0\" class=\"data row19 col0\" >0.653333</td> \n",
       "        <td id=\"T_576a3554_d943_11e8_bd6d_d46d6d080fecrow19_col1\" class=\"data row19 col1\" >0.122807</td> \n",
       "    </tr></tbody> \n",
       "</table> "
      ],
      "text/plain": [
       "<pandas.io.formats.style.Styler at 0x1ed0d85e518>"
      ]
     },
     "execution_count": 157,
     "metadata": {},
     "output_type": "execute_result"
    }
   ],
   "source": [
    "# bytt ut \"graph\" med \"diff\" for å sortere på den ene eller andre kolonnen\n",
    "\n",
    "nb.heatmap(combo.sort_values(by='diff', ascending=False)[0:20])"
   ]
  },
  {
   "cell_type": "markdown",
   "metadata": {},
   "source": [
    "# Struktur på selv kollokasjonen\n",
    "\n",
    "Ovenfor nevnte jeg at grafen strukturerer kollokasjonen. Her kan vi se hvordan. Et viktig parameter for kollokasjonen er `another_freq`, som igjen kan endres på. Effekten på grafen er interessant. Men det er verdt å nevne at det er parametre i flere lag her, i og med at grafen selv er konstruert med utgangspunkt i valg på kontekst-frekvens. "
   ]
  },
  {
   "cell_type": "code",
   "execution_count": 158,
   "metadata": {},
   "outputs": [],
   "source": [
    "Cgr = G.subgraph(list(nb.compare_word_bags(kollokasjoner, aggs, another_freq= 10).index))"
   ]
  },
  {
   "cell_type": "code",
   "execution_count": 159,
   "metadata": {},
   "outputs": [
    {
     "data": {
      "image/png": "[encoded data removed]",
      "text/plain": [
       "<Figure size 1080x720 with 1 Axes>"
      ]
     },
     "metadata": {},
     "output_type": "display_data"
    }
   ],
   "source": [
    "gnl.show_graph(Cgr, spread=0.1)"
   ]
  },
  {
   "cell_type": "code",
   "execution_count": 160,
   "metadata": {},
   "outputs": [
    {
     "name": "stdout",
     "output_type": "stream",
     "text": [
      "1 finkalibret\n",
      "\n",
      "2 fmkalibret\n",
      "\n",
      "3 high, long, speed\n",
      "\n",
      "4 Øvelsesskyting, Skyting\n",
      "\n",
      "5 Long, Hulspiss, lysets\n",
      "\n",
      "6 revolver, småkalibret, grovkalibret, kortløpet, Aldersgrensen, salongrifle, pistol\n",
      "\n",
      "7 treffsikkert\n",
      "\n",
      "8 plombert, halvautomatisk\n",
      "\n",
      "9 Synlige, dobbeltløpet, enkeltløpet, magasinhagle\n",
      "\n",
      "10 Nøkkeldata\n",
      "\n",
      "11 Fluktskudd, Jaktskudd\n",
      "\n",
      "12 habile\n",
      "\n",
      "13 uregistrert\n",
      "\n",
      "14 helautomatisk, Halvautomatisk\n",
      "\n",
      "15 Ulemper\n",
      "\n",
      "16 Jaktriflene, Kolbetyper\n",
      "\n",
      "17 Fluktskyting\n",
      "\n",
      "18 Finkalibret\n",
      "\n",
      "19 skramle\n",
      "\n",
      "20 Enkeltløpet, Dobbeltløpet\n",
      "\n",
      "21 underbeslag\n",
      "\n",
      "22 haglevåpen\n",
      "\n",
      "23 sårdannelse\n",
      "\n",
      "24 riflekulen\n",
      "\n"
     ]
    }
   ],
   "source": [
    "gnl.show_community(Cgr)"
   ]
  },
  {
   "cell_type": "code",
   "execution_count": 161,
   "metadata": {},
   "outputs": [
    {
     "name": "stdout",
     "output_type": "stream",
     "text": [
      "(3, 1) grovkalibret, revolver, kortløpet\n",
      "\n",
      "(3, 2) revolver, Aldersgrensen, salongrifle, pistol\n",
      "\n"
     ]
    }
   ],
   "source": [
    "gnl.show_cliques(Cgr)"
   ]
  },
  {
   "cell_type": "code",
   "execution_count": null,
   "metadata": {},
   "outputs": [],
   "source": []
  }
 ],
 "metadata": {
  "kernelspec": {
   "display_name": "Python 3",
   "language": "python",
   "name": "python3"
  },
  "language_info": {
   "codemirror_mode": {
    "name": "ipython",
    "version": 3
   },
   "file_extension": ".py",
   "mimetype": "text/x-python",
   "name": "python",
   "nbconvert_exporter": "python",
   "pygments_lexer": "ipython3",
   "version": "3.6.5"
  }
 },
 "nbformat": 4,
 "nbformat_minor": 2
}
